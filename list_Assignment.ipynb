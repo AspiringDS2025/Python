{
 "cells": [
  {
   "cell_type": "markdown",
   "id": "535e538c",
   "metadata": {},
   "source": [
    "# Module 3: Data Structures Assignments\n",
    "## Lesson 3.1: Lists\n",
    "### Assignment 1: Creating and Accessing Lists\n",
    "\n",
    "Create a list of the first 20 positive integers. Print the list.\n",
    "\n",
    "### Assignment 2: Accessing List Elements\n",
    "\n",
    "Print the first, middle, and last elements of the list created in Assignment 1.\n",
    "\n",
    "### Assignment 3: List Slicing\n",
    "\n",
    "Print the first five elements, the last five elements, and the elements from index 5 to 15 of the list created in Assignment 1.\n",
    "\n",
    "### Assignment 4: List Comprehensions\n",
    "\n",
    "Create a new list containing the squares of the first 10 positive integers using a list comprehension. Print the new list.\n",
    "\n",
    "### Assignment 5: Filtering Lists\n",
    "\n",
    "Create a new list containing only the even numbers from the list created in Assignment 1 using a list comprehension. Print the new list.\n",
    "\n",
    "### Assignment 6: List Methods\n",
    "\n",
    "Create a list of random numbers and sort it in ascending and descending order. Remove the duplicates from the list and print the modified list.\n",
    "\n",
    "### Assignment 7: Nested Lists\n",
    "\n",
    "Create a nested list representing a 3x3 matrix and print the matrix. Access and print the element at the second row and third column.\n",
    "\n",
    "### Assignment 8: List of Dictionaries\n",
    "\n",
    "Create a list of dictionaries where each dictionary represents a student with keys 'name' and 'score'. Sort the list of dictionaries by the 'score' in descending order and print the sorted list.\n",
    "\n",
    "### Assignment 9: Matrix Transposition\n",
    "\n",
    "Write a function that takes a 3x3 matrix (nested list) as input and returns its transpose. Print the original and transposed matrices.\n",
    "\n",
    "### Assignment 10: Flattening a Nested List\n",
    "\n",
    "Write a function that takes a nested list and flattens it into a single list. Print the original and flattened lists.\n",
    "\n",
    "### Assignment 11: List Manipulation\n",
    "\n",
    "Create a list of the first 10 positive integers. Remove the elements at indices 2, 4, and 6, and insert the element '99' at index 5. Print the modified list.\n",
    "\n",
    "### Assignment 12: List Zipping\n",
    "\n",
    "Create two lists of the same length. Use the `zip` function to combine these lists into a list of tuples and print the result.\n",
    "\n",
    "### Assignment 13: List Reversal\n",
    "\n",
    "Write a function that takes a list and returns a new list with the elements in reverse order. Print the original and reversed lists.\n",
    "\n",
    "### Assignment 14: List Rotation\n",
    "\n",
    "Write a function that rotates a list by n positions. Print the original and rotated lists.\n",
    "\n",
    "### Assignment 15: List Intersection\n",
    "\n",
    "Write a function that takes two lists and returns a new list containing only the elements that are present in both lists. Print the intersected list."
   ]
  },
  {
   "cell_type": "code",
   "execution_count": 1,
   "id": "8fbbeddb",
   "metadata": {},
   "outputs": [
    {
     "name": "stdout",
     "output_type": "stream",
     "text": [
      "[1, 2, 3, 4, 5, 6, 7, 8, 9, 10, 11, 12, 13, 14, 15, 16, 17, 18, 19, 20]\n"
     ]
    }
   ],
   "source": [
    "#create list and print \n",
    "numbers=[]\n",
    "for num in range(1,21):\n",
    "    numbers.append(num)\n",
    "print(numbers)    \n"
   ]
  },
  {
   "cell_type": "code",
   "execution_count": 2,
   "id": "724d9860-348b-4488-bfb6-ce58c0818928",
   "metadata": {},
   "outputs": [
    {
     "name": "stdout",
     "output_type": "stream",
     "text": [
      "1\n"
     ]
    }
   ],
   "source": [
    "#accessing list\n",
    "print(numbers[0])"
   ]
  },
  {
   "cell_type": "code",
   "execution_count": 3,
   "id": "0993bbc3-1f01-45bd-9dc4-747e6a2cabaa",
   "metadata": {},
   "outputs": [
    {
     "name": "stdout",
     "output_type": "stream",
     "text": [
      "[1, 2, 3, 4, 5]\n",
      "[16, 17, 18, 19, 20]\n",
      "[6, 7, 8, 9, 10, 11, 12, 13, 14, 15, 16]\n"
     ]
    }
   ],
   "source": [
    "#list slicing\n",
    "#first 5 numbers\n",
    "print(numbers[:5])\n",
    "#last 5 numbers\n",
    "print(numbers[15:])\n",
    "#index 5 to 15\n",
    "print(numbers[5:16])"
   ]
  },
  {
   "cell_type": "code",
   "execution_count": 4,
   "id": "22239f90-3e28-410f-a240-ba2470234ae7",
   "metadata": {},
   "outputs": [
    {
     "name": "stdout",
     "output_type": "stream",
     "text": [
      "[1, 4, 9, 16, 25, 36, 49, 64, 81, 100]\n"
     ]
    }
   ],
   "source": [
    "#listcomprehension\n",
    "squares=[num**2 for num in range(1,11)]\n",
    "print(squares)"
   ]
  },
  {
   "cell_type": "code",
   "execution_count": 5,
   "id": "4a20154f-6fb3-49d7-aa6d-fb72d2e3b8c5",
   "metadata": {},
   "outputs": [
    {
     "name": "stdout",
     "output_type": "stream",
     "text": [
      "[2, 4, 6, 8, 10, 12, 14, 16, 18, 20]\n"
     ]
    }
   ],
   "source": [
    "#filter Even numbers\n",
    "Even_numbers=[num for num in numbers if num % 2 == 0]\n",
    "print(Even_numbers)"
   ]
  },
  {
   "cell_type": "code",
   "execution_count": 6,
   "id": "d4febca0-aac8-4438-a802-2d30b1080bf6",
   "metadata": {},
   "outputs": [
    {
     "name": "stdout",
     "output_type": "stream",
     "text": [
      "[2, 3, 8, 45, 75]\n",
      "[75, 45, 8, 3, 2]\n"
     ]
    }
   ],
   "source": [
    "#List methods\n",
    "list1=[8,45,3,75,2]\n",
    "list_asc=sorted(list1)\n",
    "list_desc=sorted(list1,reverse=True)\n",
    "#sort asc\n",
    "print(list_asc)\n",
    "print(list_desc)\n"
   ]
  },
  {
   "cell_type": "code",
   "execution_count": 7,
   "id": "1d6c5096-0d5d-479c-93d8-434101884409",
   "metadata": {},
   "outputs": [
    {
     "name": "stdout",
     "output_type": "stream",
     "text": [
      "{2, 3, 4}\n"
     ]
    }
   ],
   "source": [
    "#remove duplicates\n",
    "list2=[2,2,3,3,4]\n",
    "result=set(list2)\n",
    "print(result)"
   ]
  },
  {
   "cell_type": "code",
   "execution_count": 8,
   "id": "3b864c36-606f-480f-8562-15a6f575324a",
   "metadata": {},
   "outputs": [
    {
     "name": "stdout",
     "output_type": "stream",
     "text": [
      "[[1 2 3]\n",
      " [4 5 6]\n",
      " [7 8 9]]\n",
      "6\n"
     ]
    }
   ],
   "source": [
    "#create 3x3 matrix \n",
    "import numpy as np\n",
    "list1=[1,2,3]\n",
    "list2=[4,5,6]\n",
    "list3=[7,8,9]\n",
    "\n",
    "result=list1,list2,list3\n",
    "matrix=np.array(result)\n",
    "mat=np.vstack(matrix)\n",
    "print(mat)\n",
    "print(mat[1][2])"
   ]
  },
  {
   "cell_type": "code",
   "execution_count": 9,
   "id": "fcf21a8f-7a08-4077-b205-4cd5a48d6226",
   "metadata": {},
   "outputs": [
    {
     "name": "stdout",
     "output_type": "stream",
     "text": [
      "original_mat: [[1 2 3]\n",
      " [4 5 6]\n",
      " [7 8 9]]\n",
      "transposed_mat: [[1 4 7]\n",
      " [2 5 8]\n",
      " [3 6 9]]\n"
     ]
    }
   ],
   "source": [
    "#transpose \n",
    "transposed_mat=mat.transpose()\n",
    "print('original_mat:',mat)\n",
    "print('transposed_mat:',transposed_mat)"
   ]
  },
  {
   "cell_type": "code",
   "execution_count": 10,
   "id": "61c29f31-eb45-48c0-bd1f-6fe11d95e8cb",
   "metadata": {},
   "outputs": [
    {
     "name": "stdout",
     "output_type": "stream",
     "text": [
      "[1 2 3 4 5 6 7 8 9]\n"
     ]
    }
   ],
   "source": [
    "#flattened list\n",
    "print(mat.flatten())"
   ]
  },
  {
   "cell_type": "code",
   "execution_count": 11,
   "id": "55e715ea-3764-4782-8b43-51a1f453609c",
   "metadata": {},
   "outputs": [
    {
     "name": "stdout",
     "output_type": "stream",
     "text": [
      "[1, 2, 3, 4, 5, 6, 7, 8, 9, 10]\n",
      "[1, 2, 4, 5, 7, 99, 10]\n"
     ]
    }
   ],
   "source": [
    "#list_manipulation\n",
    "numbers=list(range(1,11))\n",
    "print(numbers)\n",
    "numbers.pop(2)\n",
    "numbers.pop(4)\n",
    "numbers.pop(6)\n",
    "numbers[5]=99\n",
    "print(numbers)"
   ]
  },
  {
   "cell_type": "code",
   "execution_count": 12,
   "id": "5626457b-3cba-408d-bc18-6f3b73a4c3bb",
   "metadata": {},
   "outputs": [
    {
     "name": "stdout",
     "output_type": "stream",
     "text": [
      "[(0, 1), (0, 1), (0, 1), (0, 1)]\n"
     ]
    }
   ],
   "source": [
    "l1=[0,0,0,0]\n",
    "l2=[1,1,1,1]\n",
    "res=list(zip(l1,l2))\n",
    "print(res)"
   ]
  },
  {
   "cell_type": "code",
   "execution_count": 13,
   "id": "4f28d2db-5250-478d-b1d9-3549861a4357",
   "metadata": {},
   "outputs": [
    {
     "name": "stdout",
     "output_type": "stream",
     "text": [
      "[4, 3, 2, 1]\n"
     ]
    }
   ],
   "source": [
    "list1=[1,2,3,4]\n",
    "result=list(reversed(list1))\n",
    "print(result)"
   ]
  },
  {
   "cell_type": "code",
   "execution_count": 14,
   "id": "745975be-44dc-403c-aa53-36d05800e96d",
   "metadata": {},
   "outputs": [],
   "source": [
    "#list of dictionaries\n",
    "#list rotation\n",
    "#list intersection"
   ]
  },
  {
   "cell_type": "code",
   "execution_count": 15,
   "id": "de449243-2b4e-4f32-a1d0-f3649ac0cb2a",
   "metadata": {},
   "outputs": [
    {
     "name": "stdout",
     "output_type": "stream",
     "text": [
      "[{'name': 're', 'score': 100}, {'name': 'q', 'score': 80}, {'name': 'we', 'score': 59}]\n"
     ]
    }
   ],
   "source": [
    "s1={'name':'q' ,'score':80}\n",
    "s2 ={'name':'we','score':59}\n",
    "s3={'name':'re','score':100}\n",
    "students=[s1,s2,s3]\n",
    "result=[]\n",
    "scores=[el['score'] for el in students]\n",
    "scores_new=sorted(scores,reverse=True)\n",
    "for score in scores_new:\n",
    "    for el in students:\n",
    "        if el['score']==score:\n",
    "           result.append(el)\n",
    "\n",
    "print(result)\n",
    "        "
   ]
  },
  {
   "cell_type": "code",
   "execution_count": 17,
   "id": "954e3279-a31b-4265-b590-e0ce81e44df9",
   "metadata": {},
   "outputs": [],
   "source": [
    "#list rotation "
   ]
  },
  {
   "cell_type": "code",
   "execution_count": 20,
   "id": "3300d91f-ecea-475e-ae3e-d91ce52f7d6c",
   "metadata": {},
   "outputs": [
    {
     "name": "stdout",
     "output_type": "stream",
     "text": [
      "[3, 4, 1, 2]\n"
     ]
    }
   ],
   "source": [
    "from collections import deque\n",
    "ls=[1,2,3,4]\n",
    "n=2 #no of positions \n",
    "d=deque(ls)\n",
    "d.rotate(n)\n",
    "rotated_ls=list(d)\n",
    "print(rotated_ls)"
   ]
  },
  {
   "cell_type": "code",
   "execution_count": 22,
   "id": "194ad967-c0ab-4289-9b5f-47b9568ca1a5",
   "metadata": {},
   "outputs": [
    {
     "name": "stdout",
     "output_type": "stream",
     "text": [
      "[21, 80]\n"
     ]
    }
   ],
   "source": [
    "#list intersection #return common values\n",
    "list1=[21,40,59,80]\n",
    "list2=[89,90,100,80,21]\n",
    "common=[]\n",
    "for val in list1:\n",
    "    if val in list2:\n",
    "       common.append(val)\n",
    "print(common)\n",
    "        "
   ]
  },
  {
   "cell_type": "code",
   "execution_count": null,
   "id": "c838662c-325e-43e7-822b-839c26f08a25",
   "metadata": {},
   "outputs": [],
   "source": []
  }
 ],
 "metadata": {
  "kernelspec": {
   "display_name": "Python 3 (ipykernel)",
   "language": "python",
   "name": "python3"
  },
  "language_info": {
   "codemirror_mode": {
    "name": "ipython",
    "version": 3
   },
   "file_extension": ".py",
   "mimetype": "text/x-python",
   "name": "python",
   "nbconvert_exporter": "python",
   "pygments_lexer": "ipython3",
   "version": "3.11.4"
  }
 },
 "nbformat": 4,
 "nbformat_minor": 5
}
