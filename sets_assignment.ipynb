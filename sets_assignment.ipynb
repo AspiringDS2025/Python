{
 "cells": [
  {
   "cell_type": "markdown",
   "id": "7e364728",
   "metadata": {},
   "source": [
    "# Module 3: Data Structures Assignments\n",
    "## Lesson 3.3: Sets\n",
    "### Assignment 1: Creating and Accessing Sets\n",
    "\n",
    "Create a set with the first 10 positive integers. Print the set.\n",
    "\n",
    "### Assignment 2: Adding and Removing Elements\n",
    "\n",
    "Add the number 11 to the set created in Assignment 1. Then remove the number 1 from the set. Print the modified set.\n",
    "\n",
    "### Assignment 3: Set Operations\n",
    "\n",
    "Create two sets: one with the first 5 positive integers and another with the first 5 even integers. Perform and print the results of union, intersection, difference, and symmetric difference operations on these sets.\n",
    "\n",
    "### Assignment 4: Set Comprehensions\n",
    "\n",
    "Create a new set containing the squares of the first 10 positive integers using a set comprehension. Print the new set.\n",
    "\n",
    "### Assignment 5: Filtering Sets\n",
    "\n",
    "Create a new set containing only the even numbers from the set created in Assignment 1 using a set comprehension. Print the new set.\n",
    "\n",
    "### Assignment 6: Set Methods\n",
    "\n",
    "Create a set with duplicate elements and remove the duplicates using set methods. Print the modified set.\n",
    "\n",
    "### Assignment 7: Subsets and Supersets\n",
    "\n",
    "Create two sets: one with the first 5 positive integers and another with the first 3 positive integers. Check if the second set is a subset of the first set and if the first set is a superset of the second set. Print the results.\n",
    "\n",
    "### Assignment 8: Frozenset\n",
    "\n",
    "Create a frozenset with the first 5 positive integers. Print the frozenset.\n",
    "\n",
    "### Assignment 9: Set and List Conversion\n",
    "\n",
    "Create a set with the first 5 positive integers. Convert it to a list, append the number 6, and convert it back to a set. Print the resulting set.\n",
    "\n",
    "### Assignment 10: Set and Dictionary\n",
    "\n",
    "Create a dictionary with set keys and integer values. Print the dictionary.\n",
    "\n",
    "### Assignment 11: Iterating Over Sets\n",
    "\n",
    "Create a set and iterate over the elements, printing each element.\n",
    "\n",
    "### Assignment 12: Removing Elements from Sets\n",
    "\n",
    "Create a set and remove elements from it until it is empty. Print the set after each removal.\n",
    "\n",
    "### Assignment 13: Set Symmetric Difference Update\n",
    "\n",
    "Create two sets and update the first set with the symmetric difference of the two sets. Print the modified first set.\n",
    "\n",
    "### Assignment 14: Set Membership Testing\n",
    "\n",
    "Create a set and test if certain elements are present in the set. Print the results.\n",
    "\n",
    "### Assignment 15: Set of Tuples\n",
    "\n",
    "Create a set containing tuples, where each tuple contains two elements. Print the set."
   ]
  },
  {
   "cell_type": "code",
   "execution_count": 2,
   "id": "2f288c63",
   "metadata": {},
   "outputs": [
    {
     "name": "stdout",
     "output_type": "stream",
     "text": [
      "{0, 1, 2, 3, 4, 5, 6, 7, 8, 9, 10}\n"
     ]
    }
   ],
   "source": [
    "#Assignment 1: Creating and Accessing Sets\n",
    "#Create a set with the first 10 positive integers. Print the set\n",
    "ls=list(range(0,11))\n",
    "s1=set(ls)\n",
    "print(s1)"
   ]
  },
  {
   "cell_type": "code",
   "execution_count": 3,
   "id": "74e21934-68d3-4eaa-b534-cdaf174c21ec",
   "metadata": {},
   "outputs": [
    {
     "name": "stdout",
     "output_type": "stream",
     "text": [
      "{0, 1, 2, 3, 4, 5, 6, 7, 8, 9, 10, 11}\n"
     ]
    }
   ],
   "source": [
    "#Assignment 2: Adding and Removing Elements¶\n",
    "#Add the number 11 to the set created in Assignment 1. Then remove the number 1 from the set. Print the modified set\n",
    "ls=list(range(0,11))\n",
    "s1=set(ls)\n",
    "s1.add(11)\n",
    "print(s1)"
   ]
  },
  {
   "cell_type": "code",
   "execution_count": 11,
   "id": "d6a9fbbb-8d08-4ba8-a9c4-ac7e937ee3ac",
   "metadata": {},
   "outputs": [
    {
     "name": "stdout",
     "output_type": "stream",
     "text": [
      "union\n",
      "{1, 2, 3, 4, 5, 6, 8, 10}\n",
      "{1, 2, 3, 4, 5} s1\n",
      "{2, 4, 6, 8, 10} s2\n",
      "==============\n",
      "intersection_set\n",
      "{2, 4}\n",
      "{1, 2, 3, 4, 5} s1\n",
      "{2, 4, 6, 8, 10} s2\n",
      "==============\n",
      "difference_set\n",
      "{1, 3, 5}\n",
      "{1, 2, 3, 4, 5} s1\n",
      "{2, 4, 6, 8, 10} s2\n",
      "==============\n",
      "symmetricdifference_set\n",
      "{1, 3, 5, 6, 8, 10}\n",
      "{1, 2, 3, 4, 5} s1\n",
      "{2, 4, 6, 8, 10} s2\n",
      "==============\n"
     ]
    }
   ],
   "source": [
    "#Assignment 3: Set Operations\n",
    "#Create two sets: one with the first 5 positive integers and another with the first 5 even integers.\n",
    "#Perform and print the results of union, intersection, difference, and symmetric difference operations on these sets\n",
    "\n",
    "s1=set([1,2,3,4,5])\n",
    "s2=set([2,4,6,8,10])\n",
    "#union\n",
    "union_set=s1.union(s2)\n",
    "print('union')\n",
    "print(union_set) #ignored duplicated element i.e 2,4 and combined all\n",
    "print(s1,'s1') #nothing changed in s1\n",
    "print(s2,'s2') #nothinng changed in s2\n",
    "print('==============')\n",
    "#intersection\n",
    "print('intersection_set')\n",
    "intersection_set=s1.intersection(s2) \n",
    "print(intersection_set)#returned common elements\n",
    "print(s1,'s1')#nothing changed in s1\n",
    "print(s2,'s2')#nothinng changed in s2\n",
    "print('==============')\n",
    "\n",
    "print('difference_set')\n",
    "difference_set=s1.difference(s2) \n",
    "print(difference_set)#returned uncommon elements of s1\n",
    "print(s1,'s1')#nothing changed in s1\n",
    "print(s2,'s2')#nothinng changed in s2\n",
    "print('==============')\n",
    "print('symmetricdifference_set')\n",
    "sym_diff_set=s1.symmetric_difference(s2) # return combined  uncommon elements\n",
    "print(sym_diff_set)\n",
    "print(s1,'s1')\n",
    "print(s2,'s2')\n",
    "print('==============')"
   ]
  },
  {
   "cell_type": "code",
   "execution_count": null,
   "id": "5bb7e97d-c892-40f3-b1b8-2e9ab68139cf",
   "metadata": {},
   "outputs": [],
   "source": [
    "#Assignment 4: Set Comprehensions¶\n",
    "#Create a new set containing the squares of the first 10 positive integers using a set comprehension. Print the new set."
   ]
  },
  {
   "cell_type": "code",
   "execution_count": 12,
   "id": "34004f39-003e-449d-a668-fb0189a469e3",
   "metadata": {},
   "outputs": [
    {
     "name": "stdout",
     "output_type": "stream",
     "text": [
      "{0, 1, 6} <class 'set'>\n"
     ]
    }
   ],
   "source": [
    "s1={2,3,4}\n",
    "result={s^2 for s in s1}\n",
    "print(result,type(result))"
   ]
  },
  {
   "cell_type": "code",
   "execution_count": 14,
   "id": "ebd23c02-eaa8-4610-982f-b5c9ae587b51",
   "metadata": {},
   "outputs": [
    {
     "name": "stdout",
     "output_type": "stream",
     "text": [
      "{0, 2, 4, 6, 8, 10}\n"
     ]
    }
   ],
   "source": [
    "# Assignment 5: Filtering Sets\n",
    "#Create a new set containing only the even numbers from the set created in Assignment 1 using a set comprehension. Print the new set.\n",
    "ls=list(range(0,11))\n",
    "s1=set(ls)\n",
    "result={s for s in s1 if s % 2==0}\n",
    "print(result)"
   ]
  },
  {
   "cell_type": "code",
   "execution_count": 15,
   "id": "ca3a5389-b48a-44a3-b901-bb42d49159c1",
   "metadata": {},
   "outputs": [
    {
     "name": "stdout",
     "output_type": "stream",
     "text": [
      "{1, 2, 3, 4}\n"
     ]
    }
   ],
   "source": [
    "# Assignment 6: Set Methods\n",
    "#Create a set with duplicate elements and remove the duplicates using set methods. Print the modified set.\n",
    "ls=[1,1,2,3,4,4]\n",
    "s1=set(ls)\n",
    "print(s1)"
   ]
  },
  {
   "cell_type": "code",
   "execution_count": 20,
   "id": "6c20b901-fd52-4f79-a14c-c9887e1aa939",
   "metadata": {},
   "outputs": [
    {
     "name": "stdout",
     "output_type": "stream",
     "text": [
      "{1, 2, 3, 4, 5}\n",
      "{1, 2, 3}\n",
      "True\n",
      "True\n"
     ]
    }
   ],
   "source": [
    "#Assignment 7: Subsets and Supersets\n",
    "#Create two sets: one with the first 5 positive integers and another with the first 3 positive integers.\n",
    "#Check if the second set is a subset of the first set and if the first set is a superset of the second set. Print the results.\n",
    "s1=set(list(range(1,6)))\n",
    "s2=set(list(range(1,4)))\n",
    "print(s1)\n",
    "print(s2)\n",
    "print(s2.issubset(s1))\n",
    "print(s1.issuperset(s2))"
   ]
  },
  {
   "cell_type": "code",
   "execution_count": 31,
   "id": "a9b3e842-b3da-44bf-a2b3-c27ebacc0d1c",
   "metadata": {},
   "outputs": [
    {
     "name": "stdout",
     "output_type": "stream",
     "text": [
      "frozenset({1, 2, 3, 4, 5}) <class 'frozenset'>\n"
     ]
    },
    {
     "ename": "AttributeError",
     "evalue": "'frozenset' object has no attribute 'add'",
     "output_type": "error",
     "traceback": [
      "\u001b[1;31m---------------------------------------------------------------------------\u001b[0m",
      "\u001b[1;31mAttributeError\u001b[0m                            Traceback (most recent call last)",
      "Cell \u001b[1;32mIn[31], line 5\u001b[0m\n\u001b[0;32m      3\u001b[0m s1_frozen\u001b[38;5;241m=\u001b[39m\u001b[38;5;28mfrozenset\u001b[39m(\u001b[38;5;28mlist\u001b[39m(\u001b[38;5;28mrange\u001b[39m(\u001b[38;5;241m1\u001b[39m,\u001b[38;5;241m6\u001b[39m)))\n\u001b[0;32m      4\u001b[0m \u001b[38;5;28mprint\u001b[39m(s1_frozen,\u001b[38;5;28mtype\u001b[39m(s1_frozen))\n\u001b[1;32m----> 5\u001b[0m s1_frozen\u001b[38;5;241m.\u001b[39madd(\u001b[38;5;241m7\u001b[39m)\n",
      "\u001b[1;31mAttributeError\u001b[0m: 'frozenset' object has no attribute 'add'"
     ]
    }
   ],
   "source": [
    "# Assignment 8: Frozenset\n",
    "#Create a frozenset with the first 5 positive integers. Print the frozenset.\n",
    "s1_frozen=frozenset(list(range(1,6)))\n",
    "print(s1_frozen,type(s1_frozen))\n",
    "s1_frozen.add(7) #frozen set are immutable"
   ]
  },
  {
   "cell_type": "code",
   "execution_count": 33,
   "id": "57e3d8a3-009f-41bf-9f72-b97a23dcf254",
   "metadata": {},
   "outputs": [
    {
     "name": "stdout",
     "output_type": "stream",
     "text": [
      "[1, 2, 3, 4, 5]\n",
      "{1, 2, 3, 4, 5}\n",
      "[1, 2, 3, 4, 5, 6]\n",
      "{1, 2, 3, 4, 5, 6}\n"
     ]
    }
   ],
   "source": [
    "### Assignment 9: Set and List Conversion\n",
    "#Create a set with the first 5 positive integers. \n",
    "#Convert it to a list,\n",
    "#append the number 6, \n",
    "#and convert it back to a set. Print the resulting set.\n",
    "ls=list(range(1,6))\n",
    "s1=set(ls)\n",
    "converted_ls=list(s1)\n",
    "converted_ls.append(6)\n",
    "result=set(converted_ls)\n",
    "print(ls)\n",
    "print(s1)\n",
    "print(converted_ls)\n",
    "print(result)"
   ]
  },
  {
   "cell_type": "code",
   "execution_count": 43,
   "id": "9d331be4-3001-4dda-91b6-e82e9639276f",
   "metadata": {},
   "outputs": [
    {
     "name": "stdout",
     "output_type": "stream",
     "text": [
      "{frozenset({1}): 4, frozenset({2}): 90, frozenset({3}): 89}\n"
     ]
    }
   ],
   "source": [
    "# Assignment 10: Set and Dictionary\n",
    "#Create a dictionary with set keys and integer values. Print the dictionary.\n",
    "k1=frozenset([1])\n",
    "k2=frozenset([2])\n",
    "k3=frozenset([3])\n",
    "dic={k1:4,k2:90,k3:89}\n",
    "print(dic)"
   ]
  },
  {
   "cell_type": "code",
   "execution_count": 44,
   "id": "0dbd895e-00e2-4701-9ffd-7e3eaf2389a4",
   "metadata": {},
   "outputs": [
    {
     "name": "stdout",
     "output_type": "stream",
     "text": [
      "1\n",
      "2\n",
      "30\n"
     ]
    }
   ],
   "source": [
    "## Assignment 11: Iterating Over Sets\n",
    "\n",
    "#Create a set and iterate over the elements, printing each element.\n",
    "set1=(1,2,30)\n",
    "for s in set1:\n",
    "    print(s)"
   ]
  },
  {
   "cell_type": "code",
   "execution_count": 49,
   "id": "46bf1209-9547-4ee3-a1c4-af553bc0a026",
   "metadata": {},
   "outputs": [
    {
     "name": "stdout",
     "output_type": "stream",
     "text": [
      "{1, 2, 3}\n",
      "{2, 3}\n",
      "{3}\n"
     ]
    }
   ],
   "source": [
    "### Assignment 12: Removing Elements from Sets\n",
    "#Create a set and remove elements from it until it is empty. Print the set after each removal.\n",
    "s1={1,2,3}\n",
    "while(len(s1)!=0):\n",
    "    print(s1)\n",
    "    s1.pop()\n",
    "   \n"
   ]
  },
  {
   "cell_type": "code",
   "execution_count": 55,
   "id": "93d643f8-a65b-4997-b93a-242ae02c3362",
   "metadata": {},
   "outputs": [
    {
     "name": "stdout",
     "output_type": "stream",
     "text": [
      "{4, 5, 6, 7, 8, 9}\n"
     ]
    }
   ],
   "source": [
    "### Assignment 13: Set Symmetric Difference Update\n",
    "#Create two sets and update the first set with the symmetric difference of the two sets. Print the modified first set.\n",
    "s1={1,2,3,4,5}\n",
    "s2={1,2,3,6,7,8,9}\n",
    "s1.symmetric_difference_update(s2)\n",
    "\n",
    "print(s1)"
   ]
  },
  {
   "cell_type": "code",
   "execution_count": 59,
   "id": "1a26125f-b843-44d5-9ebd-4ebbfd9a8b7b",
   "metadata": {},
   "outputs": [
    {
     "name": "stdout",
     "output_type": "stream",
     "text": [
      "True\n",
      "False\n"
     ]
    }
   ],
   "source": [
    "### Assignment 14: Set Membership Testing\n",
    "\n",
    "#Create a set and test if certain elements are present in the set. Print the results.\n",
    "s1={99,100,10}\n",
    "print(100 in s1)\n",
    "print(200 in s1)"
   ]
  },
  {
   "cell_type": "code",
   "execution_count": 60,
   "id": "c0b664d5-54c3-41bd-96d0-eaa3ae84d588",
   "metadata": {},
   "outputs": [
    {
     "name": "stdout",
     "output_type": "stream",
     "text": [
      "{(4, 5), (1, 2)}\n"
     ]
    }
   ],
   "source": [
    "\n",
    "### Assignment 15: Set of Tuples\n",
    "#Create a set containing tuples, where each tuple contains two elements. Print the set.\n",
    "tup_set={(1,2,),(4,5,)}\n",
    "print(tup_set)"
   ]
  },
  {
   "cell_type": "code",
   "execution_count": null,
   "id": "8307b856-39bc-40f4-875e-00410ea52254",
   "metadata": {},
   "outputs": [],
   "source": []
  }
 ],
 "metadata": {
  "kernelspec": {
   "display_name": "Python 3 (ipykernel)",
   "language": "python",
   "name": "python3"
  },
  "language_info": {
   "codemirror_mode": {
    "name": "ipython",
    "version": 3
   },
   "file_extension": ".py",
   "mimetype": "text/x-python",
   "name": "python",
   "nbconvert_exporter": "python",
   "pygments_lexer": "ipython3",
   "version": "3.12.7"
  }
 },
 "nbformat": 4,
 "nbformat_minor": 5
}
