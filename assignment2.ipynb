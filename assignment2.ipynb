{
 "cells": [
  {
   "cell_type": "markdown",
   "id": "94cb9998",
   "metadata": {},
   "source": [
    "# Module 2: Control Flow Assignments\n",
    "## Lesson 2.1: Conditional Statements\n",
    "### Assignment 1: Simple if Statement\n",
    "\n",
    "Write a program that asks the user to input a number and prints whether the number is positive.\n",
    "\n",
    "### Assignment 2: if-else Statement\n",
    "\n",
    "Write a program that asks the user to input a number and prints whether the number is positive or negative.\n",
    "\n",
    "### Assignment 3: if-elif-else Statement\n",
    "\n",
    "Write a program that asks the user to input a number and prints whether the number is positive, negative, or zero.\n",
    "\n",
    "### Assignment 4: Nested if Statement\n",
    "\n",
    "Write a program that asks the user to input a number and prints whether the number is positive and even, positive and odd, or negative.\n",
    "\n",
    "## Lesson 2.2: Loops\n",
    "### Assignment 5: for Loop\n",
    "\n",
    "Write a program that prints all the numbers from 1 to 10 using a for loop.\n",
    "\n",
    "### Assignment 6: while Loop\n",
    "\n",
    "Write a program that prints all the numbers from 1 to 10 using a while loop.\n",
    "\n",
    "### Assignment 7: Nested Loops\n",
    "\n",
    "Write a program that prints a 5x5 grid of asterisks (*) using nested loops.\n",
    "\n",
    "### Assignment 8: break Statement\n",
    "\n",
    "Write a program that asks the user to input numbers until they input 0. The program should print the sum of all the input numbers.\n",
    "\n",
    "### Assignment 9: continue Statement\n",
    "\n",
    "Write a program that prints all the numbers from 1 to 10 except 5 using a for loop and continue statement.\n",
    "\n",
    "### Assignment 10: pass Statement\n",
    "\n",
    "Write a program that defines an empty function using the pass statement.\n",
    "\n",
    "### Assignment 11: Combining Loops and Conditionals\n",
    "\n",
    "Write a program that asks the user to input a number and prints all the even numbers from 1 to that number using a for loop.\n",
    "\n",
    "### Assignment 12: Factorial Calculation\n",
    "\n",
    "Write a program that calculates the factorial of a number input by the user using a while loop.\n",
    "\n",
    "### Assignment 13: Sum of Digits\n",
    "\n",
    "Write a program that calculates the sum of the digits of a number input by the user using a while loop.\n",
    "\n",
    "### Assignment 14: Prime Number Check\n",
    "\n",
    "Write a program that checks if a number input by the user is a prime number using a for loop.\n",
    "\n",
    "### Assignment 15: Fibonacci Sequence\n",
    "\n",
    "Write a program that prints the first n Fibonacci numbers, where n is input by the user."
   ]
  },
  {
   "cell_type": "code",
   "execution_count": 1,
   "id": "1e8724ab",
   "metadata": {},
   "outputs": [
    {
     "name": "stdin",
     "output_type": "stream",
     "text": [
      "Enter number: 6\n"
     ]
    },
    {
     "name": "stdout",
     "output_type": "stream",
     "text": [
      "positive\n"
     ]
    }
   ],
   "source": [
    "#check number is positive?\n",
    "user_input =int(input('Enter number:'))\n",
    "if user_input >0:\n",
    "    print('positive')"
   ]
  },
  {
   "cell_type": "code",
   "execution_count": 2,
   "id": "41f8bea0-7f4b-4bbe-80a2-a9e2b0866659",
   "metadata": {},
   "outputs": [
    {
     "name": "stdin",
     "output_type": "stream",
     "text": [
      "Enter number: 9\n"
     ]
    },
    {
     "name": "stdout",
     "output_type": "stream",
     "text": [
      "positive\n"
     ]
    }
   ],
   "source": [
    "#check for positive or negative\n",
    "user_input=int(input('Enter number:'))\n",
    "if user_input >0:\n",
    "    print('positive')\n",
    "elif user_input<0:\n",
    "    print('negative')\n"
   ]
  },
  {
   "cell_type": "code",
   "execution_count": 3,
   "id": "9bfcf2b6-8067-413d-8240-cdf9c481677d",
   "metadata": {},
   "outputs": [
    {
     "name": "stdin",
     "output_type": "stream",
     "text": [
      "Enter number: 0\n"
     ]
    },
    {
     "name": "stdout",
     "output_type": "stream",
     "text": [
      "zero\n"
     ]
    }
   ],
   "source": [
    "#check for positive, negative, zero\n",
    "user_input =int(input('Enter number:'))\n",
    "if user_input >0:\n",
    "    print('positive')\n",
    "elif user_input <0:\n",
    "    print('negative')\n",
    "else:\n",
    "    print('zero')"
   ]
  },
  {
   "cell_type": "code",
   "execution_count": 4,
   "id": "d6a69487-baea-4bb0-b65b-659bb06eb416",
   "metadata": {},
   "outputs": [
    {
     "name": "stdin",
     "output_type": "stream",
     "text": [
      "enter number: 8\n"
     ]
    },
    {
     "name": "stdout",
     "output_type": "stream",
     "text": [
      "positiveEven\n"
     ]
    }
   ],
   "source": [
    "user_input=int(input('enter number:'))\n",
    "if user_input >0 and user_input%2==0:\n",
    "    print('positiveEven')\n",
    "elif user_input >0 and user_input %2!=0:\n",
    "    print('positiveOdd')\n",
    "else:\n",
    "    print('negative')"
   ]
  },
  {
   "cell_type": "code",
   "execution_count": 5,
   "id": "10c4e0d8-23a6-40c7-b10c-fc860bb726af",
   "metadata": {},
   "outputs": [
    {
     "name": "stdout",
     "output_type": "stream",
     "text": [
      "1\n",
      "2\n",
      "3\n",
      "4\n",
      "5\n",
      "6\n",
      "7\n",
      "8\n",
      "9\n",
      "10\n"
     ]
    }
   ],
   "source": [
    "#for loop\n",
    "for num in range(1,11):\n",
    "    print(num)"
   ]
  },
  {
   "cell_type": "code",
   "execution_count": 6,
   "id": "eda6da9f-5ee4-4d39-832c-18a98141718c",
   "metadata": {},
   "outputs": [
    {
     "name": "stdout",
     "output_type": "stream",
     "text": [
      "1\n",
      "2\n",
      "3\n",
      "4\n",
      "5\n",
      "6\n",
      "7\n",
      "8\n",
      "9\n",
      "10\n"
     ]
    }
   ],
   "source": [
    "#while loop\n",
    "num=1\n",
    "while num<=10:\n",
    "    print(num)\n",
    "    num=num+1\n"
   ]
  },
  {
   "cell_type": "code",
   "execution_count": 7,
   "id": "e46a9b43-7c2c-41c9-8d8e-5b41310cfb52",
   "metadata": {},
   "outputs": [
    {
     "name": "stdin",
     "output_type": "stream",
     "text": [
      "enter number: 4\n",
      "enternumber 2\n",
      "enternumber 0\n"
     ]
    },
    {
     "name": "stdout",
     "output_type": "stream",
     "text": [
      "6\n"
     ]
    }
   ],
   "source": [
    "inputs=[]\n",
    "user_input=int(input('enter number:'))\n",
    "inputs.append(user_input)\n",
    "while user_input!=0:\n",
    "    user_input=int(input('enternumber'))\n",
    "    inputs.append(user_input)\n",
    "print(sum(inputs))\n",
    "    \n",
    "    "
   ]
  },
  {
   "cell_type": "code",
   "execution_count": 8,
   "id": "6be081c0-7f6b-4372-81ef-14d9d9ba6282",
   "metadata": {},
   "outputs": [
    {
     "name": "stdout",
     "output_type": "stream",
     "text": [
      "1\n",
      "2\n",
      "3\n",
      "4\n",
      "6\n",
      "7\n",
      "8\n",
      "9\n",
      "10\n"
     ]
    }
   ],
   "source": [
    "#continue\n",
    "for num in range(1,11):\n",
    "    if num==5:\n",
    "       continue\n",
    "    else:\n",
    "       print(num)\n"
   ]
  },
  {
   "cell_type": "code",
   "execution_count": 9,
   "id": "821248ca-99ba-4570-8c33-9a37a7273d60",
   "metadata": {},
   "outputs": [],
   "source": [
    "#pass\n",
    "def empty():\n",
    "    pass"
   ]
  },
  {
   "cell_type": "code",
   "execution_count": 10,
   "id": "b0445cdd-d275-4902-a169-b8615c553281",
   "metadata": {},
   "outputs": [
    {
     "name": "stdin",
     "output_type": "stream",
     "text": [
      "Enter number 9\n"
     ]
    },
    {
     "name": "stdout",
     "output_type": "stream",
     "text": [
      "2\n",
      "4\n",
      "6\n",
      "8\n"
     ]
    }
   ],
   "source": [
    "num =int(input('Enter number'))\n",
    "for n in range(1,num+1):\n",
    "    if n%2==0:\n",
    "       print(n)"
   ]
  },
  {
   "cell_type": "code",
   "execution_count": 11,
   "id": "be90d65b-1be3-41bf-8bca-bc6cf6e1f3e2",
   "metadata": {},
   "outputs": [
    {
     "name": "stdin",
     "output_type": "stream",
     "text": [
      "numberplz 5\n"
     ]
    },
    {
     "name": "stdout",
     "output_type": "stream",
     "text": [
      "120\n"
     ]
    }
   ],
   "source": [
    "#factorial :5*4*3*2*1\n",
    "num=int(input('numberplz'))\n",
    "fact=1\n",
    "while num>=1:\n",
    "    fact=num*fact\n",
    "    num=num-1\n",
    "print(fact)"
   ]
  },
  {
   "cell_type": "code",
   "execution_count": 12,
   "id": "0a1275ad-f87e-4bbf-b978-409bbe2c9ebc",
   "metadata": {},
   "outputs": [
    {
     "name": "stdin",
     "output_type": "stream",
     "text": [
      "Enternum 876\n"
     ]
    },
    {
     "name": "stdout",
     "output_type": "stream",
     "text": [
      "21\n"
     ]
    }
   ],
   "source": [
    "user_input =list(input('Enternum'))\n",
    "sum=0\n",
    "total_digits=len(user_input)\n",
    "\n",
    "index=0\n",
    "while index<total_digits:\n",
    "      sum=sum+int(user_input[index])\n",
    "      index=index+1\n",
    "print(sum)\n",
    "\n"
   ]
  },
  {
   "cell_type": "code",
   "execution_count": 13,
   "id": "c23902d3-b01e-417a-8d92-554ed407d2ff",
   "metadata": {},
   "outputs": [
    {
     "name": "stdin",
     "output_type": "stream",
     "text": [
      "Enternumber: 1009\n"
     ]
    },
    {
     "name": "stdout",
     "output_type": "stream",
     "text": [
      "num is prime\n"
     ]
    }
   ],
   "source": [
    "num=int(input('Enternumber:'))\n",
    "for n in range(2,num):\n",
    "    if num % n==0:\n",
    "       print('not prime',divis)\n",
    "       break\n",
    "print('num is prime')\n",
    "\n",
    "        \n",
    "       \n",
    "\n",
    "    \n",
    "    "
   ]
  },
  {
   "cell_type": "code",
   "execution_count": 23,
   "id": "f628de70-8f3a-4178-9316-9fb0a9ebc036",
   "metadata": {},
   "outputs": [
    {
     "name": "stdout",
     "output_type": "stream",
     "text": [
      "2\n",
      "[1, 2]\n",
      "3\n",
      "[1, 2, 3]\n",
      "4\n",
      "[1, 2, 3, 5]\n",
      "5\n",
      "[1, 2, 3, 5, 8]\n",
      "6\n",
      "[1, 2, 3, 5, 8, 13]\n",
      "7\n",
      "[1, 2, 3, 5, 8, 13, 21]\n",
      "8\n",
      "[1, 2, 3, 5, 8, 13, 21, 34]\n",
      "9\n",
      "[1, 2, 3, 5, 8, 13, 21, 34, 55]\n"
     ]
    }
   ],
   "source": [
    "fib=[]\n",
    "for num in range(1,11):\n",
    "    size=len(fib)\n",
    "    if size<2:\n",
    "       fib.append(num)\n",
    "    else:\n",
    "        size=len(fib)\n",
    "        print(size)\n",
    "        print(fib)\n",
    "        sum=fib[size-1]+fib[size-2]\n",
    "        fib.append(sum)\n"
   ]
  },
  {
   "cell_type": "code",
   "execution_count": null,
   "id": "285d38c3-febb-4408-aeb7-d899a02d0698",
   "metadata": {},
   "outputs": [],
   "source": []
  }
 ],
 "metadata": {
  "kernelspec": {
   "display_name": "Python 3 (ipykernel)",
   "language": "python",
   "name": "python3"
  },
  "language_info": {
   "codemirror_mode": {
    "name": "ipython",
    "version": 3
   },
   "file_extension": ".py",
   "mimetype": "text/x-python",
   "name": "python",
   "nbconvert_exporter": "python",
   "pygments_lexer": "ipython3",
   "version": "3.11.4"
  }
 },
 "nbformat": 4,
 "nbformat_minor": 5
}
