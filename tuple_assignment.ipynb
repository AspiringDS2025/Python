{
 "cells": [
  {
   "cell_type": "markdown",
   "id": "6cade624",
   "metadata": {},
   "source": [
    "# Module 3: Data Structures Assignments\n",
    "## Lesson 3.2: Tuples\n",
    "### Assignment 1: Creating and Accessing Tuples\n",
    "\n",
    "Create a tuple with the first 10 positive integers. Print the tuple.\n",
    "\n",
    "### Assignment 2: Accessing Tuple Elements\n",
    "\n",
    "Print the first, middle, and last elements of the tuple created in Assignment 1.\n",
    "\n",
    "### Assignment 3: Tuple Slicing\n",
    "\n",
    "Print the first three elements, the last three elements, and the elements from index 2 to 5 of the tuple created in Assignment 1.\n",
    "\n",
    "### Assignment 4: Nested Tuples\n",
    "\n",
    "Create a nested tuple representing a 3x3 matrix and print the matrix. Access and print the element at the second row and third column.\n",
    "\n",
    "### Assignment 5: Tuple Concatenation\n",
    "\n",
    "Concatenate two tuples: (1, 2, 3) and (4, 5, 6). Print the resulting tuple.\n",
    "\n",
    "### Assignment 6: Tuple Methods\n",
    "\n",
    "Create a tuple with duplicate elements and count the occurrences of an element. Find the index of the first occurrence of an element in the tuple.\n",
    "\n",
    "### Assignment 7: Unpacking Tuples\n",
    "\n",
    "Create a tuple with 5 elements and unpack it into 5 variables. Print the variables.\n",
    "\n",
    "### Assignment 8: Tuple Conversion\n",
    "\n",
    "Convert a list of the first 5 positive integers to a tuple. Print the tuple.\n",
    "\n",
    "### Assignment 9: Tuple of Tuples\n",
    "\n",
    "Create a tuple containing 3 tuples, each with 3 elements. Print the tuple of tuples.\n",
    "\n",
    "### Assignment 10: Tuple and List\n",
    "\n",
    "Create a tuple with the first 5 positive integers. Convert it to a list, append the number 6, and convert it back to a tuple. Print the resulting tuple.\n",
    "\n",
    "### Assignment 11: Tuple and String\n",
    "\n",
    "Create a tuple with the characters of a string. Join the tuple elements into a single string. Print the string.\n",
    "\n",
    "### Assignment 12: Tuple and Dictionary\n",
    "\n",
    "Create a dictionary with tuple keys and integer values. Print the dictionary.\n",
    "\n",
    "### Assignment 13: Nested Tuple Iteration\n",
    "\n",
    "Create a nested tuple and iterate over the elements, printing each element.\n",
    "\n",
    "### Assignment 14: Tuple and Set\n",
    "\n",
    "Create a tuple with duplicate elements. Convert it to a set to remove duplicates and print the resulting set.\n",
    "\n",
    "### Assignment 15: Tuple Functions\n",
    "\n",
    "Write functions that take a tuple and return the minimum, maximum, and sum of the elements. Print the results for a sample tuple."
   ]
  },
  {
   "cell_type": "code",
   "execution_count": 54,
   "id": "011f6ad5-dff1-4a51-ad61-8cf1d4fad409",
   "metadata": {},
   "outputs": [],
   "source": [
    "#Assignment 1: Creating and Accessing Tuples\n",
    "#Create a tuple with the first 10 positive integers. Print the tuple."
   ]
  },
  {
   "cell_type": "code",
   "execution_count": 55,
   "id": "7c75804b",
   "metadata": {},
   "outputs": [
    {
     "name": "stdout",
     "output_type": "stream",
     "text": [
      "(1, 2, 3, 4, 5, 6, 7, 8, 9, 10)\n"
     ]
    }
   ],
   "source": [
    "numbers=range(1,11)\n",
    "tup1=tuple(numbers)\n",
    "print(tup1)"
   ]
  },
  {
   "cell_type": "code",
   "execution_count": 56,
   "id": "2631e037-8094-4fee-9c27-a20b7cc6cf15",
   "metadata": {},
   "outputs": [
    {
     "name": "stdout",
     "output_type": "stream",
     "text": [
      "1\n",
      "[2, 3, 4, 5, 6, 7, 8, 9]\n",
      "10\n"
     ]
    }
   ],
   "source": [
    "#Assignment 2: Accessing Tuple Elements\n",
    "#Print the first, middle, and last elements of the tuple created in Assignment 1.\n",
    "first,*middle,last=tup1\n",
    "print(first)\n",
    "print(middle)\n",
    "print(last)"
   ]
  },
  {
   "cell_type": "code",
   "execution_count": 57,
   "id": "401c6af4-b7c9-4210-8518-159180cf61b3",
   "metadata": {},
   "outputs": [
    {
     "name": "stdout",
     "output_type": "stream",
     "text": [
      "(1, 2, 3)\n",
      "(8, 9, 10)\n",
      "(3, 4, 5, 6)\n"
     ]
    }
   ],
   "source": [
    "#Assignment 3: Tuple Slicing\n",
    "#Print the first three elements, the last three elements, and the elements from index 2 to 5 of the tuple created in Assignment 1.\n",
    "print(tup1[:3])\n",
    "print(tup1[7:10])\n",
    "print(tup1[2:6])"
   ]
  },
  {
   "cell_type": "code",
   "execution_count": 58,
   "id": "1ded0b84-2885-4462-b291-b00307929996",
   "metadata": {},
   "outputs": [],
   "source": [
    "#Assignment 4: Nested Tuples¶\n",
    "#Create a nested tuple representing a 3x3 matrix and print the matrix. Access and print the element at the second row and third column"
   ]
  },
  {
   "cell_type": "code",
   "execution_count": 59,
   "id": "de4c3cd1-5ae4-4363-901c-fe41a7325a59",
   "metadata": {},
   "outputs": [
    {
     "name": "stdout",
     "output_type": "stream",
     "text": [
      "((1, 2, 3), (4, 5, 6), (7, 8, 9))\n",
      "(1, 2, 3) \n",
      "(4, 5, 6)\n",
      "(7, 8, 9)\n",
      "9\n"
     ]
    }
   ],
   "source": [
    "nested_tup=(tup1[:3],tup1[3:6],tup1[6:9])\n",
    "print(nested_tup)\n",
    "print(nested_tup[0],end=' ')\n",
    "print()\n",
    "print(nested_tup[1],end='')\n",
    "print()\n",
    "print(nested_tup[2],end='')\n",
    "print()\n",
    "print(nested_tup[2][2])"
   ]
  },
  {
   "cell_type": "code",
   "execution_count": 60,
   "id": "2497a611-be82-40eb-9fbc-2a811d18aea2",
   "metadata": {},
   "outputs": [
    {
     "name": "stdout",
     "output_type": "stream",
     "text": [
      "(1, 2, 3, 4, 5, 6)\n"
     ]
    }
   ],
   "source": [
    "#Assignment 5: Tuple Concatenation\n",
    "#Concatenate two tuples: (1, 2, 3) and (4, 5, 6). Print the resulting tuple.\n",
    "t1=(1,2,3)\n",
    "t2=(4,5,6)\n",
    "concatenated_tup=t1+t2\n",
    "print(concatenated_tup)"
   ]
  },
  {
   "cell_type": "code",
   "execution_count": 61,
   "id": "555b619f-6b5d-4b46-ab18-d74e45046c8a",
   "metadata": {},
   "outputs": [
    {
     "name": "stdout",
     "output_type": "stream",
     "text": [
      "2\n"
     ]
    }
   ],
   "source": [
    "### Assignment 6: Tuple Methods\n",
    "\n",
    "#Create a tuple with duplicate elements and count the occurrences of an element. Find the index of the first occurrence of an element in the tuple.\n",
    "dup_tup=(1,2,3,3,4,5)\n",
    "occurrence_3=dup_tup.count(3)\n",
    "print(occurrence_3)"
   ]
  },
  {
   "cell_type": "code",
   "execution_count": 62,
   "id": "c5f13d20-90e4-4123-bcb5-63bf4f86ed65",
   "metadata": {},
   "outputs": [
    {
     "name": "stdout",
     "output_type": "stream",
     "text": [
      "1\n",
      "3\n",
      "4\n",
      "6.0\n",
      "hi\n"
     ]
    }
   ],
   "source": [
    "### Assignment 7: Unpacking Tuples\n",
    "\n",
    "#Create a tuple with 5 elements and unpack it into 5 variables. Print the variables.\n",
    "tup_new=(1,3,4,6.0,'hi')\n",
    "a,b,c,d,e=tup_new\n",
    "print(a)\n",
    "print(b)\n",
    "print(c)\n",
    "print(d)\n",
    "print(e)"
   ]
  },
  {
   "cell_type": "code",
   "execution_count": 63,
   "id": "59cd1774-199b-42d0-8c14-951acae85ecc",
   "metadata": {},
   "outputs": [
    {
     "name": "stdout",
     "output_type": "stream",
     "text": [
      "[1, 2, 3, 4, 5]\n",
      "(1, 2, 3, 4, 5)\n"
     ]
    }
   ],
   "source": [
    "#Assignment 8: Tuple Conversion¶\n",
    "#Convert a list of the first 5 positive integers to a tuple. Print the tuple.\n",
    "ch=list(range(1,6))\n",
    "print(ch)\n",
    "print(tuple(ch))\n"
   ]
  },
  {
   "cell_type": "code",
   "execution_count": 64,
   "id": "ce98ab9e-84b3-4a7c-922d-069c8276a92d",
   "metadata": {},
   "outputs": [
    {
     "name": "stdout",
     "output_type": "stream",
     "text": [
      "((1, 2, 3), (4, 5, 6), (7, 8, 9))\n"
     ]
    }
   ],
   "source": [
    "#Assignment 9: Tuple of Tuples\n",
    "#Create a tuple containing 3 tuples, each with 3 elements. Print the tuple of tuples.\n",
    "t1=(1,2,3)\n",
    "t2=(4,5,6)\n",
    "t3=(7,8,9)\n",
    "nested_tup=(t1,t2,t3)\n",
    "print(nested_tup)"
   ]
  },
  {
   "cell_type": "code",
   "execution_count": 65,
   "id": "5d0519a0-f4b0-4da8-98d3-d9afa07da115",
   "metadata": {},
   "outputs": [
    {
     "name": "stdout",
     "output_type": "stream",
     "text": [
      "(0, 1, 2, 3)\n",
      "[0, 1, 2, 3]\n",
      "[0, 1, 2, 3, 6]\n",
      "(0, 1, 2, 3, 6)\n"
     ]
    }
   ],
   "source": [
    "#Assignment 10: Tuple and List\n",
    "#Create a tuple with the first 5 positive integers. Convert it to a list, append the number 6, and convert it back to a tuple. Print the resulting tuple.\n",
    "tup1=tuple(range(0,4))\n",
    "print(tup1)\n",
    "tup1=list(tup1)\n",
    "print(tup1)\n",
    "tup1.append(6)\n",
    "print(tup1)\n",
    "resulted_tup=tuple(tup1)\n",
    "print(resulted_tup)"
   ]
  },
  {
   "cell_type": "code",
   "execution_count": 66,
   "id": "e41aef89-a75e-4fb7-8228-72ce6c3a912e",
   "metadata": {},
   "outputs": [
    {
     "name": "stdout",
     "output_type": "stream",
     "text": [
      "abc\n"
     ]
    }
   ],
   "source": [
    "# Assignment 11: Tuple and String\n",
    "#Create a tuple with the characters of a string. Join the tuple elements into a single string. Print the string.\n",
    "tup=('a','b','c')\n",
    "resulted_tup=tup[0]+tup[1]+tup[2]\n",
    "print(resulted_tup)"
   ]
  },
  {
   "cell_type": "code",
   "execution_count": 67,
   "id": "8f628c9f-5dcf-4cb3-bb21-b0fa84dc5b3f",
   "metadata": {},
   "outputs": [
    {
     "name": "stdout",
     "output_type": "stream",
     "text": [
      "{1: 2, 4: 4}\n"
     ]
    }
   ],
   "source": [
    "#Assignment 12: Tuple and Dictionary\n",
    "\n",
    "#Create a dictionary with tuple keys and integer values. Print the dictionary.\n",
    "dic={(a):2,(c):4}\n",
    "print(dic)"
   ]
  },
  {
   "cell_type": "code",
   "execution_count": 68,
   "id": "b096dec9-66d5-49e2-a79f-e4b97da54b81",
   "metadata": {},
   "outputs": [
    {
     "name": "stdout",
     "output_type": "stream",
     "text": [
      "1\n",
      "2\n",
      "3\n"
     ]
    }
   ],
   "source": [
    "# Assignment 13: Nested Tuple Iteration\n",
    "\n",
    "#Create a nested tuple and iterate over the elements, printing each element.\n",
    "tup1=(1,2,3)\n",
    "for el in tup1:\n",
    "    print(el)"
   ]
  },
  {
   "cell_type": "code",
   "execution_count": 69,
   "id": "0d421800-b54f-441b-869d-195431f8f295",
   "metadata": {},
   "outputs": [
    {
     "name": "stdout",
     "output_type": "stream",
     "text": [
      "(1, 2, 2, 3, 3, 4)\n",
      "{1, 2, 3, 4}\n"
     ]
    }
   ],
   "source": [
    "#Assignment 14: Tuple and Set\n",
    "#Create a tuple with duplicate elements. Convert it to a set to remove duplicates and print the resulting set.\n",
    "numbers=[1,2,2,3,3,4]\n",
    "t1=tuple(numbers)\n",
    "s1=set(t1)\n",
    "print(t1)\n",
    "print(s1)"
   ]
  },
  {
   "cell_type": "code",
   "execution_count": 70,
   "id": "226f6d29-0013-4e35-8277-0cdd9aa0a43e",
   "metadata": {},
   "outputs": [
    {
     "name": "stdout",
     "output_type": "stream",
     "text": [
      "4\n",
      "1\n",
      "10\n"
     ]
    }
   ],
   "source": [
    "### Assignment 15: Tuple Functions\n",
    "#Write functions that take a tuple and return the minimum, maximum, and sum of the elements. Print the results for a sample tuple.\n",
    "import numpy as np\n",
    "def result(t1):\n",
    "    ls=list(t1)\n",
    "    array1=np.array(ls)\n",
    "    max=int(array1.max())\n",
    "    min=int(array1.min())\n",
    "    sum=int(array1.sum())\n",
    "    return max,min,sum\n",
    "\n",
    "min,max,sum=result((1,2,3,4))\n",
    "print(min)\n",
    "print(max)\n",
    "print(sum)"
   ]
  },
  {
   "cell_type": "code",
   "execution_count": null,
   "id": "e03bb667-9fdb-4fba-a023-de605a84a8fe",
   "metadata": {},
   "outputs": [],
   "source": []
  }
 ],
 "metadata": {
  "kernelspec": {
   "display_name": "Python 3 (ipykernel)",
   "language": "python",
   "name": "python3"
  },
  "language_info": {
   "codemirror_mode": {
    "name": "ipython",
    "version": 3
   },
   "file_extension": ".py",
   "mimetype": "text/x-python",
   "name": "python",
   "nbconvert_exporter": "python",
   "pygments_lexer": "ipython3",
   "version": "3.12.7"
  }
 },
 "nbformat": 4,
 "nbformat_minor": 5
}
